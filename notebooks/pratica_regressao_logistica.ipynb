{
 "cells": [
  {
   "cell_type": "code",
   "execution_count": 3,
   "metadata": {},
   "outputs": [],
   "source": [
    "import pandas as pd\n",
    "import numpy as np\n",
    "import matplotlib.pyplot as plt\n",
    "from sklearn.linear_model import LogisticRegression"
   ]
  },
  {
   "cell_type": "code",
   "execution_count": 5,
   "metadata": {},
   "outputs": [
    {
     "data": {
      "text/plain": [
       "<bound method NDFrame.describe of             CANDIDATO  SITUACAO  DESPESAS\n",
       "0       George Turner         0        10\n",
       "1      Victor Johnson         0       100\n",
       "2         Jerry Perry         1      1600\n",
       "3        Shirley Cook         1      1500\n",
       "4      Carolyn Bailey         1      3300\n",
       "5       Susan Sanders         0       200\n",
       "6      Anthony Harris         1      1800\n",
       "7   Philip Richardson         1      1700\n",
       "8     Eugene Phillips         0       300\n",
       "9      Mildred Morris         1      1800\n",
       "10      Richard Jones         0       100\n",
       "11     Joan Hernandez         0       500\n",
       "12  Lawrence Mitchell         1      3000\n",
       "13       Annie Brooks         0        20\n",
       "14    Stephen Simmons         0       200\n",
       "15     Samuel Russell         1       700\n",
       "16        Jason Brown         1      1600\n",
       "17     Bobby Gonzalez         1      1900\n",
       "18     Steven Coleman         0       100\n",
       "19   Benjamin Ramirez         0       400\n",
       "20      Pamela Bryant         1      2700\n",
       "21        Billy Perez         0       200\n",
       "22       Julia Watson         0       300\n",
       "23       Laura Butler         0       500\n",
       "24      Gary Peterson         1      2500\n",
       "25         Carl Lewis         1      1400\n",
       "26     Virginia Scott         0       700\n",
       "27     Eric Alexander         1      1700\n",
       "28     Jane Rodriguez         1      1400\n",
       "29        Terry Smith         1      1600\n",
       "30    Donald Campbell         0       400\n",
       "31        Helen Young         0       200\n",
       "32    Dorothy Bennett         1      1600\n",
       "33    Stephanie Baker         1      2200\n",
       "34        Joseph Gray         1      1900\n",
       "35       Beverly King         0       200\n",
       "36       Lori Collins         0      1200\n",
       "37        Diana Moore         1      1700\n",
       "38        Diane Davis         1      1500\n",
       "39       Timothy Reed         1      2100\n",
       "40  Andrea Washington         0       400\n",
       "41    Nicholas Garcia         0       800\n",
       "42      Barbara White         0       400\n",
       "43          Mark Hall         1       500\n",
       "44    Katherine Price         0      1000\n",
       "45         Linda Long         0       300\n",
       "46     Harry Anderson         1       800>"
      ]
     },
     "execution_count": 5,
     "metadata": {},
     "output_type": "execute_result"
    },
    {
     "data": {
      "image/png": "[encoded data removed]",
      "text/plain": [
       "<Figure size 640x480 with 1 Axes>"
      ]
     },
     "metadata": {},
     "output_type": "display_data"
    }
   ],
   "source": [
    "# Carregando base de dados, visualização de gráfico com os pontos e visualização de estatísticas\n",
    "base = pd.read_csv('../data/Eleicao.csv', sep=';')\n",
    "plt.scatter(base.DESPESAS, base.SITUACAO)\n",
    "base.describe"
   ]
  },
  {
   "cell_type": "code",
   "execution_count": 6,
   "metadata": {},
   "outputs": [
    {
     "data": {
      "text/plain": [
       "array([[1.        , 0.81218717],\n",
       "       [0.81218717, 1.        ]])"
      ]
     },
     "execution_count": 6,
     "metadata": {},
     "output_type": "execute_result"
    }
   ],
   "source": [
    "# Visualização do coeficiente de correlação entre os atributos \"despesas\" e \"situação\"\n",
    "np.corrcoef(base.DESPESAS, base.SITUACAO)"
   ]
  },
  {
   "cell_type": "code",
   "execution_count": 9,
   "metadata": {},
   "outputs": [
    {
     "data": {
      "text/plain": [
       "array([[  10],\n",
       "       [ 100],\n",
       "       [1600],\n",
       "       [1500],\n",
       "       [3300],\n",
       "       [ 200],\n",
       "       [1800],\n",
       "       [1700],\n",
       "       [ 300],\n",
       "       [1800],\n",
       "       [ 100],\n",
       "       [ 500],\n",
       "       [3000],\n",
       "       [  20],\n",
       "       [ 200],\n",
       "       [ 700],\n",
       "       [1600],\n",
       "       [1900],\n",
       "       [ 100],\n",
       "       [ 400],\n",
       "       [2700],\n",
       "       [ 200],\n",
       "       [ 300],\n",
       "       [ 500],\n",
       "       [2500],\n",
       "       [1400],\n",
       "       [ 700],\n",
       "       [1700],\n",
       "       [1400],\n",
       "       [1600],\n",
       "       [ 400],\n",
       "       [ 200],\n",
       "       [1600],\n",
       "       [2200],\n",
       "       [1900],\n",
       "       [ 200],\n",
       "       [1200],\n",
       "       [1700],\n",
       "       [1500],\n",
       "       [2100],\n",
       "       [ 400],\n",
       "       [ 800],\n",
       "       [ 400],\n",
       "       [ 500],\n",
       "       [1000],\n",
       "       [ 300],\n",
       "       [ 800]], dtype=int64)"
      ]
     },
     "execution_count": 9,
     "metadata": {},
     "output_type": "execute_result"
    }
   ],
   "source": [
    "# Criação das varivéis X e Y (varivael independente e varivel dependete)\n",
    "# Transformação de X para o formato de matriz adicionando um novo eixo (newaxis)\n",
    "X = base.iloc[:, 2].values\n",
    "X = X[:,np.newaxis]\n",
    "y = base.iloc[:, 1].values\n",
    "X"
   ]
  },
  {
   "cell_type": "code",
   "execution_count": 10,
   "metadata": {},
   "outputs": [
    {
     "data": {
      "text/plain": [
       "array([-4.60287217])"
      ]
     },
     "execution_count": 10,
     "metadata": {},
     "output_type": "execute_result"
    }
   ],
   "source": [
    "# Criação do modelo , treinamento e visualização dos coeficientes\n",
    "modelo = LogisticRegression()\n",
    "modelo.fit(X, y)\n",
    "modelo.coef_\n",
    "modelo.intercept_"
   ]
  }
 ],
 "metadata": {
  "kernelspec": {
   "display_name": "base",
   "language": "python",
   "name": "python3"
  },
  "language_info": {
   "codemirror_mode": {
    "name": "ipython",
    "version": 3
   },
   "file_extension": ".py",
   "mimetype": "text/x-python",
   "name": "python",
   "nbconvert_exporter": "python",
   "pygments_lexer": "ipython3",
   "version": "3.12.4"
  }
 },
 "nbformat": 4,
 "nbformat_minor": 2
}
